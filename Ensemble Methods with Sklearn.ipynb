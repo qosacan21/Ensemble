{
 "cells": [
  {
   "cell_type": "markdown",
   "id": "b0ca8231",
   "metadata": {},
   "source": [
    "## Ensemble Methods With Sklearn\n",
    "\n",
    "Ensemble SKlearn\n",
    "\n",
    "### Content\n",
    "\n",
    "- [Packages](#pack)\n",
    "- [Voting Hard And Soft](#sklearn1)"
   ]
  },
  {
   "cell_type": "markdown",
   "id": "7a8dc0a9",
   "metadata": {},
   "source": [
    "## <a id = 'pack'>Packages </a>"
   ]
  },
  {
   "cell_type": "code",
   "execution_count": 13,
   "id": "ea955a06",
   "metadata": {},
   "outputs": [],
   "source": [
    "import numpy as np\n",
    "import pandas as pd\n",
    "import seaborn as sns\n",
    "import matplotlib\n",
    "import matplotlib.pyplot as plt\n",
    "from sklearn.tree import DecisionTreeClassifier, DecisionTreeRegressor\n",
    "from sklearn.metrics import accuracy_score, classification_report, confusion_matrix\n",
    "from sklearn.datasets import load_breast_cancer\n",
    "from sklearn.model_selection import train_test_split\n",
    "from sklearn.ensemble import VotingClassifier\n",
    "from sklearn.linear_model import LogisticRegression\n",
    "from sklearn.svm import SVC\n",
    "from sklearn.naive_bayes import GaussianNB"
   ]
  },
  {
   "cell_type": "markdown",
   "id": "f4e6c3fd",
   "metadata": {},
   "source": [
    "## <a id = 'sklearn1'>  Hard Voting and Soft Voting </a>"
   ]
  },
  {
   "cell_type": "code",
   "execution_count": 4,
   "id": "1bb38565",
   "metadata": {},
   "outputs": [],
   "source": [
    "data, target = load_breast_cancer().data, load_breast_cancer().target"
   ]
  },
  {
   "cell_type": "code",
   "execution_count": 5,
   "id": "8d1e4361",
   "metadata": {},
   "outputs": [
    {
     "data": {
      "text/plain": [
       "((569, 30), (569,))"
      ]
     },
     "execution_count": 5,
     "metadata": {},
     "output_type": "execute_result"
    }
   ],
   "source": [
    "data.shape, target.shape"
   ]
  },
  {
   "cell_type": "code",
   "execution_count": 7,
   "id": "5ee4cdb5",
   "metadata": {},
   "outputs": [
    {
     "data": {
      "text/plain": [
       "0     0\n",
       "1     0\n",
       "2     0\n",
       "3     0\n",
       "4     0\n",
       "5     0\n",
       "6     0\n",
       "7     0\n",
       "8     0\n",
       "9     0\n",
       "10    0\n",
       "11    0\n",
       "12    0\n",
       "13    0\n",
       "14    0\n",
       "15    0\n",
       "16    0\n",
       "17    0\n",
       "18    0\n",
       "19    0\n",
       "20    0\n",
       "21    0\n",
       "22    0\n",
       "23    0\n",
       "24    0\n",
       "25    0\n",
       "26    0\n",
       "27    0\n",
       "28    0\n",
       "29    0\n",
       "dtype: int64"
      ]
     },
     "execution_count": 7,
     "metadata": {},
     "output_type": "execute_result"
    }
   ],
   "source": [
    "pd.DataFrame(data).isna().sum()"
   ]
  },
  {
   "cell_type": "code",
   "execution_count": 12,
   "id": "2315acd0",
   "metadata": {},
   "outputs": [],
   "source": [
    "X_train, X_test, y_train, y_test = train_test_split(data, target, test_size = 0.2)"
   ]
  },
  {
   "cell_type": "code",
   "execution_count": 24,
   "id": "05a9324f",
   "metadata": {},
   "outputs": [],
   "source": [
    "log_clf = LogisticRegression(C = 1, solver = 'liblinear')\n",
    "svc_clf = SVC(C=1, kernel= 'linear', gamma = 'auto', probability = True)\n",
    "naive_clf = GaussianNB()"
   ]
  },
  {
   "cell_type": "code",
   "execution_count": 25,
   "id": "8be4d79a",
   "metadata": {},
   "outputs": [
    {
     "name": "stdout",
     "output_type": "stream",
     "text": [
      "LogisticRegression 0.9385964912280702\n",
      "SVC 0.9385964912280702\n",
      "GaussianNB 0.9298245614035088\n"
     ]
    }
   ],
   "source": [
    "for clf in (log_clf,svc_clf,naive_clf):\n",
    "    clf.fit(X_train,y_train)\n",
    "    y_pred = clf.predict(X_test)\n",
    "    print(clf.__class__.__name__, accuracy_score(y_test,y_pred))"
   ]
  },
  {
   "cell_type": "code",
   "execution_count": 26,
   "id": "9ac778ae",
   "metadata": {},
   "outputs": [
    {
     "data": {
      "text/plain": [
       "VotingClassifier(estimators=[('lr',\n",
       "                              LogisticRegression(C=1, solver='liblinear')),\n",
       "                             ('svc',\n",
       "                              SVC(C=1, gamma='auto', kernel='linear',\n",
       "                                  probability=True)),\n",
       "                             ('naive', GaussianNB())],\n",
       "                 n_jobs=5, verbose=True)"
      ]
     },
     "execution_count": 26,
     "metadata": {},
     "output_type": "execute_result"
    }
   ],
   "source": [
    "clf_vote = VotingClassifier(estimators= [('lr',log_clf),\n",
    "                                         ('svc',svc_clf),\n",
    "                                          ('naive',naive_clf)],\n",
    "                voting='hard',\n",
    "                weights=None,\n",
    "                n_jobs=5,\n",
    "                flatten_transform=True,\n",
    "                verbose=True,)\n",
    "clf_vote.fit(X_train,y_train)"
   ]
  },
  {
   "cell_type": "code",
   "execution_count": 27,
   "id": "11f0a96d",
   "metadata": {},
   "outputs": [
    {
     "data": {
      "text/plain": [
       "[('lr', LogisticRegression(C=1, solver='liblinear')),\n",
       " ('svc', SVC(C=1, gamma='auto', kernel='linear', probability=True)),\n",
       " ('naive', GaussianNB())]"
      ]
     },
     "execution_count": 27,
     "metadata": {},
     "output_type": "execute_result"
    }
   ],
   "source": [
    "clf_vote.estimators"
   ]
  },
  {
   "cell_type": "code",
   "execution_count": 28,
   "id": "c9ba81bb",
   "metadata": {},
   "outputs": [
    {
     "data": {
      "text/plain": [
       "0.9385964912280702"
      ]
     },
     "execution_count": 28,
     "metadata": {},
     "output_type": "execute_result"
    }
   ],
   "source": [
    "accuracy_score(y_test,clf_vote.predict(X_test))"
   ]
  },
  {
   "cell_type": "code",
   "execution_count": 31,
   "id": "15c294fb",
   "metadata": {},
   "outputs": [
    {
     "data": {
      "text/plain": [
       "VotingClassifier(estimators=[('lr',\n",
       "                              LogisticRegression(C=1, solver='liblinear')),\n",
       "                             ('svc',\n",
       "                              SVC(C=1, gamma='auto', kernel='linear',\n",
       "                                  probability=True)),\n",
       "                             ('naive', GaussianNB())],\n",
       "                 n_jobs=5, verbose=True, voting='soft',\n",
       "                 weights=[0.4, 0.3, 0.3])"
      ]
     },
     "execution_count": 31,
     "metadata": {},
     "output_type": "execute_result"
    }
   ],
   "source": [
    "clf_vote = VotingClassifier(estimators= [('lr',log_clf),\n",
    "                                         ('svc',svc_clf),\n",
    "                                          ('naive',naive_clf)],\n",
    "                voting='soft',\n",
    "                weights=[0.4,0.3,0.3],\n",
    "                n_jobs=5,\n",
    "                flatten_transform=True,\n",
    "                verbose=True,)\n",
    "clf_vote.fit(X_train,y_train)"
   ]
  },
  {
   "cell_type": "code",
   "execution_count": 32,
   "id": "ccffc79c",
   "metadata": {},
   "outputs": [
    {
     "data": {
      "text/plain": [
       "0.9298245614035088"
      ]
     },
     "execution_count": 32,
     "metadata": {},
     "output_type": "execute_result"
    }
   ],
   "source": [
    "accuracy_score(y_test,clf_vote.predict(X_test))"
   ]
  },
  {
   "cell_type": "code",
   "execution_count": null,
   "id": "0681a0a2",
   "metadata": {},
   "outputs": [],
   "source": []
  },
  {
   "cell_type": "code",
   "execution_count": null,
   "id": "648846cb",
   "metadata": {},
   "outputs": [],
   "source": []
  }
 ],
 "metadata": {
  "kernelspec": {
   "display_name": "Python 3",
   "language": "python",
   "name": "python3"
  },
  "language_info": {
   "codemirror_mode": {
    "name": "ipython",
    "version": 3
   },
   "file_extension": ".py",
   "mimetype": "text/x-python",
   "name": "python",
   "nbconvert_exporter": "python",
   "pygments_lexer": "ipython3",
   "version": "3.8.5"
  }
 },
 "nbformat": 4,
 "nbformat_minor": 5
}
