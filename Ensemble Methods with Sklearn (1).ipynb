{
 "cells": [
  {
   "cell_type": "markdown",
   "id": "4e01d2c3",
   "metadata": {},
   "source": [
    "## Ensemble Methods With Sklearn\n",
    "\n",
    "Ensemble SKlearn\n",
    "\n",
    "### Content\n",
    "\n",
    "- [Packages](#pack)\n",
    "- [Voting Hard And Soft](#sklearn1)\n",
    "- [Bagging and Pasting](#sklearn2)\n",
    "- [RandomForest](#sklearn3)\n",
    "- [Extra Trees](#sklearn4)\n",
    "- [Adaptive Boosting](#sklearn5)\n",
    "- [Gradient Boosting !!!](#sklearn6)\n",
    "- [Stacking](#sklearn7)"
   ]
  },
  {
   "cell_type": "markdown",
   "id": "a549c2a1",
   "metadata": {},
   "source": [
    "## <a id = 'pack'>Packages </a>"
   ]
  },
  {
   "cell_type": "code",
   "execution_count": 188,
   "id": "f76c47b0",
   "metadata": {},
   "outputs": [],
   "source": [
    "import numpy as np\n",
    "import pandas as pd\n",
    "import seaborn as sns\n",
    "import matplotlib\n",
    "import matplotlib.pyplot as plt\n",
    "from sklearn.tree import DecisionTreeClassifier, DecisionTreeRegressor\n",
    "from sklearn.metrics import accuracy_score, classification_report, confusion_matrix, mean_absolute_error, mean_squared_error\n",
    "from sklearn.datasets import load_breast_cancer, load_diabetes\n",
    "from sklearn.model_selection import train_test_split\n",
    "from sklearn.ensemble import VotingClassifier, RandomForestClassifier, ExtraTreesClassifier, ExtraTreesRegressor, AdaBoostClassifier,AdaBoostRegressor\n",
    "from sklearn.linear_model import LogisticRegression\n",
    "from sklearn.svm import SVC\n",
    "from sklearn.naive_bayes import GaussianNB\n",
    "from sklearn.neighbors import KNeighborsClassifier\n",
    "from sklearn.tree import DecisionTreeRegressor, DecisionTreeClassifier\n",
    "from sklearn.ensemble import BaggingRegressor, BaggingClassifier, GradientBoostingClassifier, GradientBoostingRegressor"
   ]
  },
  {
   "cell_type": "markdown",
   "id": "59acd685",
   "metadata": {},
   "source": [
    "## <a id = 'sklearn1'>  Hard Voting and Soft Voting </a>"
   ]
  },
  {
   "cell_type": "code",
   "execution_count": 2,
   "id": "e98220fe",
   "metadata": {},
   "outputs": [],
   "source": [
    "data, target = load_breast_cancer().data, load_breast_cancer().target"
   ]
  },
  {
   "cell_type": "code",
   "execution_count": 18,
   "id": "2ad62578",
   "metadata": {},
   "outputs": [],
   "source": [
    "data2, target2 = load_diabetes().data, load_diabetes().target"
   ]
  },
  {
   "cell_type": "code",
   "execution_count": 3,
   "id": "6ebd1257",
   "metadata": {},
   "outputs": [
    {
     "data": {
      "text/plain": [
       "((569, 30), (569,))"
      ]
     },
     "execution_count": 3,
     "metadata": {},
     "output_type": "execute_result"
    }
   ],
   "source": [
    "data.shape, target.shape"
   ]
  },
  {
   "cell_type": "code",
   "execution_count": 4,
   "id": "adbdfdda",
   "metadata": {},
   "outputs": [
    {
     "data": {
      "text/plain": [
       "0     0\n",
       "1     0\n",
       "2     0\n",
       "3     0\n",
       "4     0\n",
       "5     0\n",
       "6     0\n",
       "7     0\n",
       "8     0\n",
       "9     0\n",
       "10    0\n",
       "11    0\n",
       "12    0\n",
       "13    0\n",
       "14    0\n",
       "15    0\n",
       "16    0\n",
       "17    0\n",
       "18    0\n",
       "19    0\n",
       "20    0\n",
       "21    0\n",
       "22    0\n",
       "23    0\n",
       "24    0\n",
       "25    0\n",
       "26    0\n",
       "27    0\n",
       "28    0\n",
       "29    0\n",
       "dtype: int64"
      ]
     },
     "execution_count": 4,
     "metadata": {},
     "output_type": "execute_result"
    }
   ],
   "source": [
    "pd.DataFrame(data).isna().sum()"
   ]
  },
  {
   "cell_type": "code",
   "execution_count": 5,
   "id": "7ea92c21",
   "metadata": {},
   "outputs": [],
   "source": [
    "X_train, X_test, y_train, y_test = train_test_split(data, target, test_size = 0.2)"
   ]
  },
  {
   "cell_type": "code",
   "execution_count": 6,
   "id": "b1f72a24",
   "metadata": {},
   "outputs": [],
   "source": [
    "log_clf = LogisticRegression(C = 1, solver = 'liblinear')\n",
    "svc_clf = SVC(C=1, kernel= 'linear', gamma = 'auto', probability = True)\n",
    "naive_clf = GaussianNB()"
   ]
  },
  {
   "cell_type": "code",
   "execution_count": 7,
   "id": "80dd2ba3",
   "metadata": {},
   "outputs": [
    {
     "name": "stdout",
     "output_type": "stream",
     "text": [
      "LogisticRegression 0.956140350877193\n",
      "SVC 0.9649122807017544\n",
      "GaussianNB 0.9912280701754386\n"
     ]
    }
   ],
   "source": [
    "for clf in (log_clf,svc_clf,naive_clf):\n",
    "    clf.fit(X_train,y_train)\n",
    "    y_pred = clf.predict(X_test)\n",
    "    print(clf.__class__.__name__, accuracy_score(y_test,y_pred))"
   ]
  },
  {
   "cell_type": "code",
   "execution_count": 8,
   "id": "7bc5e420",
   "metadata": {},
   "outputs": [
    {
     "data": {
      "text/plain": [
       "VotingClassifier(estimators=[('lr',\n",
       "                              LogisticRegression(C=1, solver='liblinear')),\n",
       "                             ('svc',\n",
       "                              SVC(C=1, gamma='auto', kernel='linear',\n",
       "                                  probability=True)),\n",
       "                             ('naive', GaussianNB())],\n",
       "                 n_jobs=5, verbose=True)"
      ]
     },
     "execution_count": 8,
     "metadata": {},
     "output_type": "execute_result"
    }
   ],
   "source": [
    "clf_vote = VotingClassifier(estimators= [('lr',log_clf),\n",
    "                                         ('svc',svc_clf),\n",
    "                                          ('naive',naive_clf)],\n",
    "                voting='hard',\n",
    "                weights=None,\n",
    "                n_jobs=5,\n",
    "                flatten_transform=True,\n",
    "                verbose=True,)\n",
    "clf_vote.fit(X_train,y_train)"
   ]
  },
  {
   "cell_type": "code",
   "execution_count": 9,
   "id": "70c8ee5a",
   "metadata": {},
   "outputs": [
    {
     "data": {
      "text/plain": [
       "[('lr', LogisticRegression(C=1, solver='liblinear')),\n",
       " ('svc', SVC(C=1, gamma='auto', kernel='linear', probability=True)),\n",
       " ('naive', GaussianNB())]"
      ]
     },
     "execution_count": 9,
     "metadata": {},
     "output_type": "execute_result"
    }
   ],
   "source": [
    "clf_vote.estimators"
   ]
  },
  {
   "cell_type": "code",
   "execution_count": 10,
   "id": "23e66f27",
   "metadata": {},
   "outputs": [
    {
     "data": {
      "text/plain": [
       "0.9649122807017544"
      ]
     },
     "execution_count": 10,
     "metadata": {},
     "output_type": "execute_result"
    }
   ],
   "source": [
    "accuracy_score(y_test,clf_vote.predict(X_test))"
   ]
  },
  {
   "cell_type": "code",
   "execution_count": 11,
   "id": "043a28fa",
   "metadata": {},
   "outputs": [
    {
     "data": {
      "text/plain": [
       "VotingClassifier(estimators=[('lr',\n",
       "                              LogisticRegression(C=1, solver='liblinear')),\n",
       "                             ('svc',\n",
       "                              SVC(C=1, gamma='auto', kernel='linear',\n",
       "                                  probability=True)),\n",
       "                             ('naive', GaussianNB())],\n",
       "                 n_jobs=5, verbose=True, voting='soft',\n",
       "                 weights=[0.4, 0.3, 0.3])"
      ]
     },
     "execution_count": 11,
     "metadata": {},
     "output_type": "execute_result"
    }
   ],
   "source": [
    "clf_vote = VotingClassifier(estimators= [('lr',log_clf),\n",
    "                                         ('svc',svc_clf),\n",
    "                                          ('naive',naive_clf)],\n",
    "                voting='soft',\n",
    "                weights=[0.4,0.3,0.3],\n",
    "                n_jobs=5,\n",
    "                flatten_transform=True,\n",
    "                verbose=True,)\n",
    "clf_vote.fit(X_train,y_train)"
   ]
  },
  {
   "cell_type": "code",
   "execution_count": 12,
   "id": "9d9e1673",
   "metadata": {},
   "outputs": [
    {
     "data": {
      "text/plain": [
       "0.9736842105263158"
      ]
     },
     "execution_count": 12,
     "metadata": {},
     "output_type": "execute_result"
    }
   ],
   "source": [
    "accuracy_score(y_test,clf_vote.predict(X_test))"
   ]
  },
  {
   "cell_type": "markdown",
   "id": "f6b05d78",
   "metadata": {},
   "source": [
    "## <a id = 'sklearn2'>  Boosting and Pasting </a>"
   ]
  },
  {
   "cell_type": "code",
   "execution_count": 34,
   "id": "ed579bff",
   "metadata": {},
   "outputs": [],
   "source": [
    "X_train2, X_test2, y_train2, y_test2 = train_test_split(data2, target2, test_size = 0.2)"
   ]
  },
  {
   "cell_type": "code",
   "execution_count": 54,
   "id": "38897e2c",
   "metadata": {},
   "outputs": [
    {
     "data": {
      "text/plain": [
       "BaggingRegressor(base_estimator=DecisionTreeRegressor(), bootstrap=False,\n",
       "                 bootstrap_features=True, max_features=0.8, max_samples=1,\n",
       "                 n_estimators=1000, n_jobs=5)"
      ]
     },
     "execution_count": 54,
     "metadata": {},
     "output_type": "execute_result"
    }
   ],
   "source": [
    "bag_reg = BaggingRegressor(\n",
    "                            DecisionTreeRegressor(),\n",
    "                            n_estimators = 1000,\n",
    "                            bootstrap = False, #pasting if false\n",
    "                            max_samples = 1,\n",
    "                            bootstrap_features= True, #for features\n",
    "                            max_features= 0.8,\n",
    "                            n_jobs = 5,\n",
    "                            oob_score = False\n",
    ")\n",
    "bag_reg.fit(X_train2,y_train2)"
   ]
  },
  {
   "cell_type": "code",
   "execution_count": 55,
   "id": "9c448cdc",
   "metadata": {},
   "outputs": [
    {
     "data": {
      "text/plain": [
       "(64.7991926345609, 68.92668539325842)"
      ]
     },
     "execution_count": 55,
     "metadata": {},
     "output_type": "execute_result"
    }
   ],
   "source": [
    "mean_absolute_error(y_train2, bag_reg.predict(X_train2)),mean_absolute_error(y_test2, bag_reg.predict(X_test2))"
   ]
  },
  {
   "cell_type": "code",
   "execution_count": 70,
   "id": "5dce9ff5",
   "metadata": {},
   "outputs": [
    {
     "data": {
      "text/plain": [
       "BaggingClassifier(base_estimator=DecisionTreeClassifier(),\n",
       "                  bootstrap_features=True, max_features=0.8, max_samples=0.7,\n",
       "                  n_estimators=1000, n_jobs=5, oob_score=True)"
      ]
     },
     "execution_count": 70,
     "metadata": {},
     "output_type": "execute_result"
    }
   ],
   "source": [
    "bag_clf = BaggingClassifier(\n",
    "                            DecisionTreeClassifier(),\n",
    "                            n_estimators = 1000,\n",
    "                            bootstrap = True, #pasting if false\n",
    "                            max_samples = 0.7,\n",
    "                            bootstrap_features= True, #for features\n",
    "                            max_features= 0.8,\n",
    "                            n_jobs = 5,\n",
    "                            oob_score = True\n",
    ")\n",
    "bag_clf.fit(X_train,y_train)"
   ]
  },
  {
   "cell_type": "code",
   "execution_count": 71,
   "id": "520fe78f",
   "metadata": {},
   "outputs": [
    {
     "data": {
      "text/plain": [
       "(0.9978021978021978, 0.9736842105263158)"
      ]
     },
     "execution_count": 71,
     "metadata": {},
     "output_type": "execute_result"
    }
   ],
   "source": [
    "accuracy_score(y_train, bag_clf.predict(X_train)),accuracy_score(y_test,bag_clf.predict(X_test))"
   ]
  },
  {
   "cell_type": "code",
   "execution_count": 72,
   "id": "77298424",
   "metadata": {},
   "outputs": [
    {
     "data": {
      "text/plain": [
       "0.9582417582417583"
      ]
     },
     "execution_count": 72,
     "metadata": {},
     "output_type": "execute_result"
    }
   ],
   "source": [
    "bag_clf.oob_score_"
   ]
  },
  {
   "cell_type": "code",
   "execution_count": null,
   "id": "ce757894",
   "metadata": {},
   "outputs": [],
   "source": []
  },
  {
   "cell_type": "markdown",
   "id": "02c2facd",
   "metadata": {},
   "source": [
    "## <a id = 'sklearn3'>  Random Forest </a>"
   ]
  },
  {
   "cell_type": "code",
   "execution_count": 74,
   "id": "bebba109",
   "metadata": {},
   "outputs": [
    {
     "data": {
      "text/plain": [
       "RandomForestClassifier(max_leaf_nodes=12, n_estimators=600, n_jobs=5)"
      ]
     },
     "execution_count": 74,
     "metadata": {},
     "output_type": "execute_result"
    }
   ],
   "source": [
    "rnd_cls = RandomForestClassifier(n_estimators= 600, max_leaf_nodes= 12, n_jobs= 5)\n",
    "rnd_cls.fit(X_train,y_train)"
   ]
  },
  {
   "cell_type": "code",
   "execution_count": 75,
   "id": "42f2ce9f",
   "metadata": {},
   "outputs": [
    {
     "data": {
      "text/plain": [
       "(0.9912087912087912, 0.9736842105263158)"
      ]
     },
     "execution_count": 75,
     "metadata": {},
     "output_type": "execute_result"
    }
   ],
   "source": [
    "accuracy_score(y_train, rnd_cls.predict(X_train)),accuracy_score(y_test,rnd_cls.predict(X_test))"
   ]
  },
  {
   "cell_type": "code",
   "execution_count": 185,
   "id": "74b245f0",
   "metadata": {},
   "outputs": [],
   "source": [
    "warm_random = RandomForestClassifier(max_leaf_nodes= 10, n_jobs= 4, warm_start= True)"
   ]
  },
  {
   "cell_type": "code",
   "execution_count": 186,
   "id": "d9179acd",
   "metadata": {},
   "outputs": [
    {
     "name": "stdout",
     "output_type": "stream",
     "text": [
      "Estimator 1\n",
      "Acc 0.9824561403508771\n",
      "Estimator 2\n",
      "Acc 0.9736842105263158\n",
      "Estimator 3\n",
      "Acc 0.9736842105263158\n",
      "Estimator 4\n",
      "Acc 0.9736842105263158\n",
      "Estimator 5\n",
      "Acc 0.9736842105263158\n",
      "Estimator 6\n",
      "Acc 0.9824561403508771\n",
      "Estimator 7\n",
      "Acc 0.9736842105263158\n",
      "Estimator 8\n",
      "Acc 0.9736842105263158\n",
      "Estimator 9\n",
      "Acc 0.9736842105263158\n",
      "Estimator 10\n",
      "Acc 0.9736842105263158\n",
      "Estimator 11\n",
      "Acc 0.9736842105263158\n"
     ]
    }
   ],
   "source": [
    "min_error_thres = 0\n",
    "error_in_row = 0\n",
    "\n",
    "for n_estimators in range(1,1000):\n",
    "    warm_random.n_estimators = n_estimators\n",
    "    warm_random.fit(X_train,y_train)\n",
    "    \n",
    "    pred = warm_random.predict(X_test)\n",
    "    error = accuracy_score(y_test,pred)\n",
    "    \n",
    "    print('Estimator', n_estimators)\n",
    "    print('Acc',error)\n",
    "    \n",
    "    if error > min_error_thres:\n",
    "        min_error_thres = error\n",
    "        error_in_row = 0\n",
    "    else:\n",
    "        error_in_row += 1\n",
    "        if error_in_row == 10:\n",
    "            break"
   ]
  },
  {
   "cell_type": "code",
   "execution_count": null,
   "id": "57573650",
   "metadata": {},
   "outputs": [],
   "source": []
  },
  {
   "cell_type": "markdown",
   "id": "2f757b61",
   "metadata": {},
   "source": [
    "## <a id = 'sklearn4'> Extra Trees </a>"
   ]
  },
  {
   "cell_type": "code",
   "execution_count": 77,
   "id": "d0adc99c",
   "metadata": {},
   "outputs": [
    {
     "data": {
      "text/plain": [
       "ExtraTreesRegressor(max_leaf_nodes=12, n_estimators=600, n_jobs=5)"
      ]
     },
     "execution_count": 77,
     "metadata": {},
     "output_type": "execute_result"
    }
   ],
   "source": [
    "extra_reg = ExtraTreesRegressor(n_estimators=600, max_leaf_nodes= 12, n_jobs = 5)\n",
    "extra_reg.fit(X_train2,y_train2)"
   ]
  },
  {
   "cell_type": "code",
   "execution_count": 78,
   "id": "a8358f31",
   "metadata": {},
   "outputs": [
    {
     "data": {
      "text/plain": [
       "(41.29473328568838, 48.74414362872022)"
      ]
     },
     "execution_count": 78,
     "metadata": {},
     "output_type": "execute_result"
    }
   ],
   "source": [
    "mean_absolute_error(y_train2, extra_reg.predict(X_train2)),mean_absolute_error(y_test2, extra_reg.predict(X_test2))"
   ]
  },
  {
   "cell_type": "code",
   "execution_count": 85,
   "id": "1d88ecce",
   "metadata": {},
   "outputs": [
    {
     "data": {
      "text/plain": [
       "ExtraTreesClassifier(max_leaf_nodes=12, n_estimators=600, n_jobs=5)"
      ]
     },
     "execution_count": 85,
     "metadata": {},
     "output_type": "execute_result"
    }
   ],
   "source": [
    "extra_class = ExtraTreesClassifier(n_estimators=600, max_leaf_nodes= 12, n_jobs = 5)\n",
    "extra_class.fit(X_train,y_train)"
   ]
  },
  {
   "cell_type": "code",
   "execution_count": 86,
   "id": "575c187f",
   "metadata": {},
   "outputs": [
    {
     "data": {
      "text/plain": [
       "(0.9736263736263736, 0.9824561403508771)"
      ]
     },
     "execution_count": 86,
     "metadata": {},
     "output_type": "execute_result"
    }
   ],
   "source": [
    "accuracy_score(y_train, extra_class.predict(X_train)),accuracy_score(y_test,extra_class.predict(X_test))"
   ]
  },
  {
   "cell_type": "markdown",
   "id": "5075a49c",
   "metadata": {},
   "source": [
    "## <a id = 'sklearn5'> AdaBoost </a>"
   ]
  },
  {
   "cell_type": "code",
   "execution_count": 125,
   "id": "bd190923",
   "metadata": {},
   "outputs": [
    {
     "data": {
      "text/plain": [
       "AdaBoostRegressor(base_estimator=DecisionTreeRegressor(max_depth=3),\n",
       "                  learning_rate=0.5, n_estimators=400)"
      ]
     },
     "execution_count": 125,
     "metadata": {},
     "output_type": "execute_result"
    }
   ],
   "source": [
    "ada_reg = AdaBoostRegressor(DecisionTreeRegressor(max_depth= 3),\n",
    "                           n_estimators= 400,\n",
    "                           learning_rate = 0.5)\n",
    "\n",
    "\n",
    "ada_reg.fit(X_train2,y_train2)"
   ]
  },
  {
   "cell_type": "code",
   "execution_count": 126,
   "id": "9f279a63",
   "metadata": {},
   "outputs": [
    {
     "data": {
      "text/plain": [
       "(40.56527190993425, 49.146343172747194)"
      ]
     },
     "execution_count": 126,
     "metadata": {},
     "output_type": "execute_result"
    }
   ],
   "source": [
    "mean_absolute_error(y_train2, ada_reg.predict(X_train2)),mean_absolute_error(y_test2, ada_reg.predict(X_test2))"
   ]
  },
  {
   "cell_type": "code",
   "execution_count": 127,
   "id": "f5b1b87b",
   "metadata": {},
   "outputs": [
    {
     "data": {
      "text/plain": [
       "array([0.61534854, 0.57370358, 0.52987145, 0.38452574, 0.5854403 ,\n",
       "       0.37391868, 0.34610847, 0.38998908, 0.35827511, 0.33552915,\n",
       "       0.19033028, 0.33757719, 0.3032106 , 0.25220635, 0.37965646,\n",
       "       0.3602717 , 0.37781332, 0.31148735, 0.40914015, 0.15719728,\n",
       "       0.42949303, 0.41209538, 0.24231872, 0.3988128 , 0.35924391,\n",
       "       0.27105767, 0.52263581, 0.12556577, 0.16627611, 0.        ,\n",
       "       0.        , 0.        , 0.        , 0.        , 0.        ,\n",
       "       0.        , 0.        , 0.        , 0.        , 0.        ,\n",
       "       0.        , 0.        , 0.        , 0.        , 0.        ,\n",
       "       0.        , 0.        , 0.        , 0.        , 0.        ,\n",
       "       0.        , 0.        , 0.        , 0.        , 0.        ,\n",
       "       0.        , 0.        , 0.        , 0.        , 0.        ,\n",
       "       0.        , 0.        , 0.        , 0.        , 0.        ,\n",
       "       0.        , 0.        , 0.        , 0.        , 0.        ,\n",
       "       0.        , 0.        , 0.        , 0.        , 0.        ,\n",
       "       0.        , 0.        , 0.        , 0.        , 0.        ,\n",
       "       0.        , 0.        , 0.        , 0.        , 0.        ,\n",
       "       0.        , 0.        , 0.        , 0.        , 0.        ,\n",
       "       0.        , 0.        , 0.        , 0.        , 0.        ,\n",
       "       0.        , 0.        , 0.        , 0.        , 0.        ,\n",
       "       0.        , 0.        , 0.        , 0.        , 0.        ,\n",
       "       0.        , 0.        , 0.        , 0.        , 0.        ,\n",
       "       0.        , 0.        , 0.        , 0.        , 0.        ,\n",
       "       0.        , 0.        , 0.        , 0.        , 0.        ,\n",
       "       0.        , 0.        , 0.        , 0.        , 0.        ,\n",
       "       0.        , 0.        , 0.        , 0.        , 0.        ,\n",
       "       0.        , 0.        , 0.        , 0.        , 0.        ,\n",
       "       0.        , 0.        , 0.        , 0.        , 0.        ,\n",
       "       0.        , 0.        , 0.        , 0.        , 0.        ,\n",
       "       0.        , 0.        , 0.        , 0.        , 0.        ,\n",
       "       0.        , 0.        , 0.        , 0.        , 0.        ,\n",
       "       0.        , 0.        , 0.        , 0.        , 0.        ,\n",
       "       0.        , 0.        , 0.        , 0.        , 0.        ,\n",
       "       0.        , 0.        , 0.        , 0.        , 0.        ,\n",
       "       0.        , 0.        , 0.        , 0.        , 0.        ,\n",
       "       0.        , 0.        , 0.        , 0.        , 0.        ,\n",
       "       0.        , 0.        , 0.        , 0.        , 0.        ,\n",
       "       0.        , 0.        , 0.        , 0.        , 0.        ,\n",
       "       0.        , 0.        , 0.        , 0.        , 0.        ,\n",
       "       0.        , 0.        , 0.        , 0.        , 0.        ,\n",
       "       0.        , 0.        , 0.        , 0.        , 0.        ,\n",
       "       0.        , 0.        , 0.        , 0.        , 0.        ,\n",
       "       0.        , 0.        , 0.        , 0.        , 0.        ,\n",
       "       0.        , 0.        , 0.        , 0.        , 0.        ,\n",
       "       0.        , 0.        , 0.        , 0.        , 0.        ,\n",
       "       0.        , 0.        , 0.        , 0.        , 0.        ,\n",
       "       0.        , 0.        , 0.        , 0.        , 0.        ,\n",
       "       0.        , 0.        , 0.        , 0.        , 0.        ,\n",
       "       0.        , 0.        , 0.        , 0.        , 0.        ,\n",
       "       0.        , 0.        , 0.        , 0.        , 0.        ,\n",
       "       0.        , 0.        , 0.        , 0.        , 0.        ,\n",
       "       0.        , 0.        , 0.        , 0.        , 0.        ,\n",
       "       0.        , 0.        , 0.        , 0.        , 0.        ,\n",
       "       0.        , 0.        , 0.        , 0.        , 0.        ,\n",
       "       0.        , 0.        , 0.        , 0.        , 0.        ,\n",
       "       0.        , 0.        , 0.        , 0.        , 0.        ,\n",
       "       0.        , 0.        , 0.        , 0.        , 0.        ,\n",
       "       0.        , 0.        , 0.        , 0.        , 0.        ,\n",
       "       0.        , 0.        , 0.        , 0.        , 0.        ,\n",
       "       0.        , 0.        , 0.        , 0.        , 0.        ,\n",
       "       0.        , 0.        , 0.        , 0.        , 0.        ,\n",
       "       0.        , 0.        , 0.        , 0.        , 0.        ,\n",
       "       0.        , 0.        , 0.        , 0.        , 0.        ,\n",
       "       0.        , 0.        , 0.        , 0.        , 0.        ,\n",
       "       0.        , 0.        , 0.        , 0.        , 0.        ,\n",
       "       0.        , 0.        , 0.        , 0.        , 0.        ,\n",
       "       0.        , 0.        , 0.        , 0.        , 0.        ,\n",
       "       0.        , 0.        , 0.        , 0.        , 0.        ,\n",
       "       0.        , 0.        , 0.        , 0.        , 0.        ,\n",
       "       0.        , 0.        , 0.        , 0.        , 0.        ,\n",
       "       0.        , 0.        , 0.        , 0.        , 0.        ,\n",
       "       0.        , 0.        , 0.        , 0.        , 0.        ,\n",
       "       0.        , 0.        , 0.        , 0.        , 0.        ,\n",
       "       0.        , 0.        , 0.        , 0.        , 0.        ,\n",
       "       0.        , 0.        , 0.        , 0.        , 0.        ,\n",
       "       0.        , 0.        , 0.        , 0.        , 0.        ,\n",
       "       0.        , 0.        , 0.        , 0.        , 0.        ,\n",
       "       0.        , 0.        , 0.        , 0.        , 0.        ,\n",
       "       0.        , 0.        , 0.        , 0.        , 0.        ,\n",
       "       0.        , 0.        , 0.        , 0.        , 0.        ])"
      ]
     },
     "execution_count": 127,
     "metadata": {},
     "output_type": "execute_result"
    }
   ],
   "source": [
    "ada_reg.estimator_weights_"
   ]
  },
  {
   "cell_type": "code",
   "execution_count": 132,
   "id": "00f552bd",
   "metadata": {},
   "outputs": [
    {
     "data": {
      "text/plain": [
       "AdaBoostClassifier(base_estimator=DecisionTreeClassifier(max_depth=1),\n",
       "                   learning_rate=0.5, n_estimators=200)"
      ]
     },
     "execution_count": 132,
     "metadata": {},
     "output_type": "execute_result"
    }
   ],
   "source": [
    "ada_cls = AdaBoostClassifier(DecisionTreeClassifier(max_depth= 1),\n",
    "                           n_estimators= 200,\n",
    "                             algorithm= 'SAMME.R',\n",
    "                           learning_rate = 0.5)\n",
    "\n",
    "\n",
    "ada_cls.fit(X_train,y_train)"
   ]
  },
  {
   "cell_type": "code",
   "execution_count": 133,
   "id": "d1ad879d",
   "metadata": {},
   "outputs": [
    {
     "data": {
      "text/plain": [
       "(1.0, 0.9912280701754386)"
      ]
     },
     "execution_count": 133,
     "metadata": {},
     "output_type": "execute_result"
    }
   ],
   "source": [
    "accuracy_score(y_train, ada_cls.predict(X_train)),accuracy_score(y_test,ada_cls.predict(X_test))"
   ]
  },
  {
   "cell_type": "markdown",
   "id": "8c72a145",
   "metadata": {},
   "source": [
    "## <a id = 'sklearn6'> Gradient </a>"
   ]
  },
  {
   "cell_type": "code",
   "execution_count": 163,
   "id": "c46ddc75",
   "metadata": {},
   "outputs": [
    {
     "data": {
      "text/plain": [
       "GradientBoostingRegressor(max_depth=1, n_estimators=50)"
      ]
     },
     "execution_count": 163,
     "metadata": {},
     "output_type": "execute_result"
    }
   ],
   "source": [
    "gb_reg = GradientBoostingRegressor(max_depth = 1, n_estimators= 50, learning_rate= 0.1)\n",
    "gb_reg.fit(X_train2,y_train2)"
   ]
  },
  {
   "cell_type": "code",
   "execution_count": 164,
   "id": "21979cf4",
   "metadata": {},
   "outputs": [
    {
     "data": {
      "text/plain": [
       "(2683.1832538209114, 3267.6349505867233)"
      ]
     },
     "execution_count": 164,
     "metadata": {},
     "output_type": "execute_result"
    }
   ],
   "source": [
    "mean_squared_error(y_train2, gb_reg.predict(X_train2)),mean_squared_error(y_test2, gb_reg.predict(X_test2))"
   ]
  },
  {
   "cell_type": "code",
   "execution_count": null,
   "id": "e89eb475",
   "metadata": {},
   "outputs": [],
   "source": []
  },
  {
   "cell_type": "code",
   "execution_count": 169,
   "id": "03ddedf8",
   "metadata": {},
   "outputs": [],
   "source": [
    "gbr = GradientBoostingRegressor(max_depth=1, warm_start= True)"
   ]
  },
  {
   "cell_type": "code",
   "execution_count": 170,
   "id": "0c686408",
   "metadata": {},
   "outputs": [
    {
     "name": "stdout",
     "output_type": "stream",
     "text": [
      "No. of estimators: 1\n",
      "Validation error 6120.301563637372\n",
      "No. of estimators: 2\n",
      "Validation error 5818.16174050051\n",
      "No. of estimators: 3\n",
      "Validation error 5570.086037896211\n",
      "No. of estimators: 4\n",
      "Validation error 5339.606026556624\n",
      "No. of estimators: 5\n",
      "Validation error 5148.374140750805\n",
      "No. of estimators: 6\n",
      "Validation error 4974.005085720683\n",
      "No. of estimators: 7\n",
      "Validation error 4821.540252525674\n",
      "No. of estimators: 8\n",
      "Validation error 4696.773148517174\n",
      "No. of estimators: 9\n",
      "Validation error 4569.567077650752\n",
      "No. of estimators: 10\n",
      "Validation error 4483.3671480196435\n",
      "No. of estimators: 11\n",
      "Validation error 4393.316343570109\n",
      "No. of estimators: 12\n",
      "Validation error 4303.877784543185\n",
      "No. of estimators: 13\n",
      "Validation error 4248.9312295592335\n",
      "No. of estimators: 14\n",
      "Validation error 4174.1830267214145\n",
      "No. of estimators: 15\n",
      "Validation error 4083.761029846394\n",
      "No. of estimators: 16\n",
      "Validation error 4023.75182788264\n",
      "No. of estimators: 17\n",
      "Validation error 3979.289294956679\n",
      "No. of estimators: 18\n",
      "Validation error 3932.3903239071938\n",
      "No. of estimators: 19\n",
      "Validation error 3885.1727942941184\n",
      "No. of estimators: 20\n",
      "Validation error 3843.7773858974847\n",
      "No. of estimators: 21\n",
      "Validation error 3803.6316356781426\n",
      "No. of estimators: 22\n",
      "Validation error 3745.793567954025\n",
      "No. of estimators: 23\n",
      "Validation error 3700.942060406751\n",
      "No. of estimators: 24\n",
      "Validation error 3672.886371493613\n",
      "No. of estimators: 25\n",
      "Validation error 3647.0780205718584\n",
      "No. of estimators: 26\n",
      "Validation error 3599.1110056099583\n",
      "No. of estimators: 27\n",
      "Validation error 3586.1428835848037\n",
      "No. of estimators: 28\n",
      "Validation error 3557.091792461837\n",
      "No. of estimators: 29\n",
      "Validation error 3539.4368853125384\n",
      "No. of estimators: 30\n",
      "Validation error 3521.5507959597226\n",
      "No. of estimators: 31\n",
      "Validation error 3496.6047824037487\n",
      "No. of estimators: 32\n",
      "Validation error 3464.7631688443307\n",
      "No. of estimators: 33\n",
      "Validation error 3452.9353777420283\n",
      "No. of estimators: 34\n",
      "Validation error 3438.4028734502785\n",
      "No. of estimators: 35\n",
      "Validation error 3424.859719059109\n",
      "No. of estimators: 36\n",
      "Validation error 3401.7825819261743\n",
      "No. of estimators: 37\n",
      "Validation error 3391.822908164838\n",
      "No. of estimators: 38\n",
      "Validation error 3374.735435625807\n",
      "No. of estimators: 39\n",
      "Validation error 3358.081428462662\n",
      "No. of estimators: 40\n",
      "Validation error 3343.84211271526\n",
      "No. of estimators: 41\n",
      "Validation error 3332.80028792451\n",
      "No. of estimators: 42\n",
      "Validation error 3323.2392390748805\n",
      "No. of estimators: 43\n",
      "Validation error 3310.671177036653\n",
      "No. of estimators: 44\n",
      "Validation error 3307.074589228975\n",
      "No. of estimators: 45\n",
      "Validation error 3296.7339506445624\n",
      "No. of estimators: 46\n",
      "Validation error 3291.3971359857223\n",
      "No. of estimators: 47\n",
      "Validation error 3283.2128238253827\n",
      "No. of estimators: 48\n",
      "Validation error 3270.3931059329207\n",
      "No. of estimators: 49\n",
      "Validation error 3278.2011757180835\n",
      "No. of estimators: 50\n",
      "Validation error 3267.634950586723\n",
      "No. of estimators: 51\n",
      "Validation error 3266.3445483760534\n",
      "No. of estimators: 52\n",
      "Validation error 3264.9801710113684\n",
      "No. of estimators: 53\n",
      "Validation error 3264.863200429731\n",
      "No. of estimators: 54\n",
      "Validation error 3255.8582636991155\n",
      "No. of estimators: 55\n",
      "Validation error 3248.5224577951954\n",
      "No. of estimators: 56\n",
      "Validation error 3255.8033352461534\n",
      "No. of estimators: 57\n",
      "Validation error 3250.157034485538\n",
      "No. of estimators: 58\n",
      "Validation error 3249.075534812393\n",
      "No. of estimators: 59\n",
      "Validation error 3241.8123924717183\n",
      "No. of estimators: 60\n",
      "Validation error 3235.6892369723196\n",
      "No. of estimators: 61\n",
      "Validation error 3231.0190804817967\n",
      "No. of estimators: 62\n",
      "Validation error 3221.7078900850606\n",
      "No. of estimators: 63\n",
      "Validation error 3228.6096444590694\n",
      "No. of estimators: 64\n",
      "Validation error 3228.509963151357\n",
      "No. of estimators: 65\n",
      "Validation error 3225.9059912983193\n",
      "No. of estimators: 66\n",
      "Validation error 3221.2820376817417\n",
      "No. of estimators: 67\n",
      "Validation error 3220.444463486874\n",
      "No. of estimators: 68\n",
      "Validation error 3216.9751578891805\n",
      "No. of estimators: 69\n",
      "Validation error 3206.997637638777\n",
      "No. of estimators: 70\n",
      "Validation error 3199.8295013122797\n",
      "No. of estimators: 71\n",
      "Validation error 3194.9344482540023\n",
      "No. of estimators: 72\n",
      "Validation error 3201.517056269073\n",
      "No. of estimators: 73\n",
      "Validation error 3196.661944254142\n",
      "No. of estimators: 74\n",
      "Validation error 3196.037051925613\n",
      "No. of estimators: 75\n",
      "Validation error 3185.788137717271\n",
      "No. of estimators: 76\n",
      "Validation error 3185.69292984851\n",
      "No. of estimators: 77\n",
      "Validation error 3177.726703676556\n",
      "No. of estimators: 78\n",
      "Validation error 3168.4635894020907\n",
      "No. of estimators: 79\n",
      "Validation error 3165.189500811214\n",
      "No. of estimators: 80\n",
      "Validation error 3161.551199466283\n",
      "No. of estimators: 81\n",
      "Validation error 3161.100869264487\n",
      "No. of estimators: 82\n",
      "Validation error 3154.3341800006065\n",
      "No. of estimators: 83\n",
      "Validation error 3152.2880336943795\n",
      "No. of estimators: 84\n",
      "Validation error 3143.6545458004407\n",
      "No. of estimators: 85\n",
      "Validation error 3135.1028604420926\n",
      "No. of estimators: 86\n",
      "Validation error 3133.549466883465\n",
      "No. of estimators: 87\n",
      "Validation error 3129.6577818584033\n",
      "No. of estimators: 88\n",
      "Validation error 3135.4339279489436\n",
      "No. of estimators: 89\n",
      "Validation error 3132.364348642361\n",
      "No. of estimators: 90\n",
      "Validation error 3133.3120228496687\n",
      "No. of estimators: 91\n",
      "Validation error 3133.073291005827\n",
      "No. of estimators: 92\n",
      "Validation error 3132.9868824392483\n",
      "No. of estimators: 93\n",
      "Validation error 3129.5572177313297\n",
      "No. of estimators: 94\n",
      "Validation error 3121.4337257267\n",
      "No. of estimators: 95\n",
      "Validation error 3113.4952764799955\n",
      "No. of estimators: 96\n",
      "Validation error 3123.1491213816853\n",
      "No. of estimators: 97\n",
      "Validation error 3123.121388980834\n",
      "No. of estimators: 98\n",
      "Validation error 3120.6988319198645\n",
      "No. of estimators: 99\n",
      "Validation error 3116.462162994354\n",
      "No. of estimators: 100\n",
      "Validation error 3127.5324086220007\n",
      "No. of estimators: 101\n",
      "Validation error 3120.2011324934238\n",
      "No. of estimators: 102\n",
      "Validation error 3112.9160763995546\n",
      "No. of estimators: 103\n",
      "Validation error 3114.6224087487262\n",
      "No. of estimators: 104\n",
      "Validation error 3112.7573503832127\n",
      "No. of estimators: 105\n",
      "Validation error 3111.391814755891\n",
      "No. of estimators: 106\n",
      "Validation error 3106.15505274247\n",
      "No. of estimators: 107\n",
      "Validation error 3106.3562223349472\n",
      "No. of estimators: 108\n",
      "Validation error 3103.0183225377577\n",
      "No. of estimators: 109\n",
      "Validation error 3103.9338606898405\n",
      "No. of estimators: 110\n",
      "Validation error 3103.827967485153\n",
      "No. of estimators: 111\n",
      "Validation error 3099.287886857837\n",
      "No. of estimators: 112\n",
      "Validation error 3102.402651980518\n",
      "No. of estimators: 113\n",
      "Validation error 3101.8822885916647\n",
      "No. of estimators: 114\n",
      "Validation error 3111.3180715731246\n",
      "No. of estimators: 115\n",
      "Validation error 3111.253059352196\n",
      "No. of estimators: 116\n",
      "Validation error 3106.982769003142\n",
      "No. of estimators: 117\n",
      "Validation error 3107.3584149791727\n",
      "No. of estimators: 118\n",
      "Validation error 3105.603919928559\n",
      "No. of estimators: 119\n",
      "Validation error 3098.7726999240795\n",
      "No. of estimators: 120\n",
      "Validation error 3098.001186313421\n",
      "No. of estimators: 121\n",
      "Validation error 3095.0923806611104\n",
      "No. of estimators: 122\n",
      "Validation error 3094.0424529861166\n",
      "No. of estimators: 123\n",
      "Validation error 3087.4617170919228\n",
      "No. of estimators: 124\n",
      "Validation error 3087.9406280865555\n",
      "No. of estimators: 125\n",
      "Validation error 3089.715321274279\n",
      "No. of estimators: 126\n",
      "Validation error 3091.438776356362\n",
      "No. of estimators: 127\n",
      "Validation error 3094.900984178957\n",
      "No. of estimators: 128\n",
      "Validation error 3091.670667728272\n",
      "No. of estimators: 129\n",
      "Validation error 3100.8614021277795\n",
      "No. of estimators: 130\n",
      "Validation error 3099.198461324864\n",
      "No. of estimators: 131\n",
      "Validation error 3092.7342684442738\n",
      "No. of estimators: 132\n",
      "Validation error 3090.2947532698327\n",
      "No. of estimators: 133\n",
      "Validation error 3094.1958981995167\n"
     ]
    }
   ],
   "source": [
    "min_val_error = float(\"inf\")\n",
    "error_increasing = 0\n",
    "\n",
    "for n_estimators in range(1,1000):\n",
    "    gbr.n_estimators = n_estimators\n",
    "    gbr.fit(X_train2,y_train2)\n",
    "    \n",
    "    y_pred = gbr.predict(X_test2)\n",
    "    val_error = mean_squared_error(y_test2,y_pred)\n",
    "    \n",
    "    print('No. of estimators:',gbr.n_estimators_)\n",
    "    print('Validation error',val_error)\n",
    "    \n",
    "    if val_error < min_val_error:\n",
    "        min_val_error = val_error\n",
    "        error_increasing = 0\n",
    "    else:\n",
    "        error_increasing += 1\n",
    "        if error_increasing == 10:\n",
    "            break"
   ]
  },
  {
   "cell_type": "markdown",
   "id": "057e0f86",
   "metadata": {},
   "source": [
    "## <a id = 'sklearn7'> Stacking </a>"
   ]
  },
  {
   "cell_type": "code",
   "execution_count": 206,
   "id": "36887ef9",
   "metadata": {},
   "outputs": [],
   "source": [
    "x_train, x_hold_out, x_test = np.split(data, [int(.7*len(data)),int(.9*len(data))])  # 70 - 20 -10\n",
    "y_train, y_hold_out, y_test = np.split(target, [int(.7*len(target)),int(.9*len(target))])"
   ]
  },
  {
   "cell_type": "code",
   "execution_count": 194,
   "id": "fecdc8fa",
   "metadata": {},
   "outputs": [
    {
     "data": {
      "text/plain": [
       "(398, 30)"
      ]
     },
     "execution_count": 194,
     "metadata": {},
     "output_type": "execute_result"
    }
   ],
   "source": [
    "x_train.shape"
   ]
  },
  {
   "cell_type": "code",
   "execution_count": 195,
   "id": "eb3c8e34",
   "metadata": {},
   "outputs": [
    {
     "data": {
      "text/plain": [
       "(114, 30)"
      ]
     },
     "execution_count": 195,
     "metadata": {},
     "output_type": "execute_result"
    }
   ],
   "source": [
    "x_hold_out.shape"
   ]
  },
  {
   "cell_type": "code",
   "execution_count": 197,
   "id": "1c1dd592",
   "metadata": {},
   "outputs": [
    {
     "data": {
      "text/plain": [
       "(57, 30)"
      ]
     },
     "execution_count": 197,
     "metadata": {},
     "output_type": "execute_result"
    }
   ],
   "source": [
    "x_test.shape"
   ]
  },
  {
   "cell_type": "code",
   "execution_count": 198,
   "id": "b85f0aee",
   "metadata": {},
   "outputs": [
    {
     "data": {
      "text/plain": [
       "(569, 30)"
      ]
     },
     "execution_count": 198,
     "metadata": {},
     "output_type": "execute_result"
    }
   ],
   "source": [
    "data.shape"
   ]
  },
  {
   "cell_type": "code",
   "execution_count": 207,
   "id": "f3248ab5",
   "metadata": {},
   "outputs": [],
   "source": [
    "clf1 = KNeighborsClassifier(n_neighbors= 10)\n",
    "clf2 = RandomForestClassifier(n_estimators = 50)\n",
    "clf3 = GaussianNB()"
   ]
  },
  {
   "cell_type": "code",
   "execution_count": 209,
   "id": "11912b33",
   "metadata": {},
   "outputs": [],
   "source": [
    "for clf in (clf1,clf2,clf3):\n",
    "    clf.fit(x_train,y_train)"
   ]
  },
  {
   "cell_type": "code",
   "execution_count": 211,
   "id": "e7326015",
   "metadata": {},
   "outputs": [],
   "source": [
    "def get_predictions(x,y):\n",
    "    pred_results = pd.DataFrame()\n",
    "    \n",
    "    i = 1\n",
    "    for clf in (clf1,clf2,clf3):\n",
    "        y_pred = clf.predict(x)\n",
    "        \n",
    "        print(clf.__class__.__name__, accuracy_score(y,y_pred))\n",
    "        \n",
    "        pred_results.insert(i-1, 'y_pred_' + str(i), y_pred)\n",
    "        \n",
    "        i +=1\n",
    "        \n",
    "    return pred_results\n"
   ]
  },
  {
   "cell_type": "code",
   "execution_count": 212,
   "id": "e74f58fc",
   "metadata": {},
   "outputs": [
    {
     "name": "stdout",
     "output_type": "stream",
     "text": [
      "KNeighborsClassifier 0.9298245614035088\n",
      "RandomForestClassifier 0.9736842105263158\n",
      "GaussianNB 0.9736842105263158\n"
     ]
    }
   ],
   "source": [
    "pred_result = get_predictions(x_hold_out,y_hold_out)"
   ]
  },
  {
   "cell_type": "code",
   "execution_count": 213,
   "id": "7f3c45ab",
   "metadata": {},
   "outputs": [
    {
     "data": {
      "text/html": [
       "<div>\n",
       "<style scoped>\n",
       "    .dataframe tbody tr th:only-of-type {\n",
       "        vertical-align: middle;\n",
       "    }\n",
       "\n",
       "    .dataframe tbody tr th {\n",
       "        vertical-align: top;\n",
       "    }\n",
       "\n",
       "    .dataframe thead th {\n",
       "        text-align: right;\n",
       "    }\n",
       "</style>\n",
       "<table border=\"1\" class=\"dataframe\">\n",
       "  <thead>\n",
       "    <tr style=\"text-align: right;\">\n",
       "      <th></th>\n",
       "      <th>y_pred_1</th>\n",
       "      <th>y_pred_2</th>\n",
       "      <th>y_pred_3</th>\n",
       "    </tr>\n",
       "  </thead>\n",
       "  <tbody>\n",
       "    <tr>\n",
       "      <th>0</th>\n",
       "      <td>1</td>\n",
       "      <td>1</td>\n",
       "      <td>1</td>\n",
       "    </tr>\n",
       "    <tr>\n",
       "      <th>1</th>\n",
       "      <td>1</td>\n",
       "      <td>1</td>\n",
       "      <td>1</td>\n",
       "    </tr>\n",
       "    <tr>\n",
       "      <th>2</th>\n",
       "      <td>0</td>\n",
       "      <td>0</td>\n",
       "      <td>0</td>\n",
       "    </tr>\n",
       "    <tr>\n",
       "      <th>3</th>\n",
       "      <td>1</td>\n",
       "      <td>1</td>\n",
       "      <td>1</td>\n",
       "    </tr>\n",
       "    <tr>\n",
       "      <th>4</th>\n",
       "      <td>1</td>\n",
       "      <td>1</td>\n",
       "      <td>1</td>\n",
       "    </tr>\n",
       "  </tbody>\n",
       "</table>\n",
       "</div>"
      ],
      "text/plain": [
       "   y_pred_1  y_pred_2  y_pred_3\n",
       "0         1         1         1\n",
       "1         1         1         1\n",
       "2         0         0         0\n",
       "3         1         1         1\n",
       "4         1         1         1"
      ]
     },
     "execution_count": 213,
     "metadata": {},
     "output_type": "execute_result"
    }
   ],
   "source": [
    "pred_result.head()"
   ]
  },
  {
   "cell_type": "code",
   "execution_count": 214,
   "id": "eaf72822",
   "metadata": {},
   "outputs": [],
   "source": [
    "x_stack_train = pred_result\n",
    "y_stack_train = y_hold_out"
   ]
  },
  {
   "cell_type": "code",
   "execution_count": 215,
   "id": "b752ef92",
   "metadata": {},
   "outputs": [
    {
     "data": {
      "text/plain": [
       "LogisticRegression(C=1, max_iter=200)"
      ]
     },
     "execution_count": 215,
     "metadata": {},
     "output_type": "execute_result"
    }
   ],
   "source": [
    "clf_stack = LogisticRegression(solver = 'lbfgs', C = 1, max_iter = 200)\n",
    "\n",
    "clf_stack.fit(x_stack_train, y_stack_train)"
   ]
  },
  {
   "cell_type": "code",
   "execution_count": 216,
   "id": "361f6985",
   "metadata": {},
   "outputs": [
    {
     "name": "stdout",
     "output_type": "stream",
     "text": [
      "KNeighborsClassifier 0.9649122807017544\n",
      "RandomForestClassifier 0.9824561403508771\n",
      "GaussianNB 0.9473684210526315\n"
     ]
    }
   ],
   "source": [
    "pred_results_test = get_predictions(x_test,y_test)"
   ]
  },
  {
   "cell_type": "code",
   "execution_count": 218,
   "id": "738ca5cc",
   "metadata": {},
   "outputs": [
    {
     "data": {
      "text/html": [
       "<div>\n",
       "<style scoped>\n",
       "    .dataframe tbody tr th:only-of-type {\n",
       "        vertical-align: middle;\n",
       "    }\n",
       "\n",
       "    .dataframe tbody tr th {\n",
       "        vertical-align: top;\n",
       "    }\n",
       "\n",
       "    .dataframe thead th {\n",
       "        text-align: right;\n",
       "    }\n",
       "</style>\n",
       "<table border=\"1\" class=\"dataframe\">\n",
       "  <thead>\n",
       "    <tr style=\"text-align: right;\">\n",
       "      <th></th>\n",
       "      <th>y_pred_1</th>\n",
       "      <th>y_pred_2</th>\n",
       "      <th>y_pred_3</th>\n",
       "    </tr>\n",
       "  </thead>\n",
       "  <tbody>\n",
       "    <tr>\n",
       "      <th>0</th>\n",
       "      <td>0</td>\n",
       "      <td>0</td>\n",
       "      <td>0</td>\n",
       "    </tr>\n",
       "    <tr>\n",
       "      <th>1</th>\n",
       "      <td>1</td>\n",
       "      <td>1</td>\n",
       "      <td>1</td>\n",
       "    </tr>\n",
       "    <tr>\n",
       "      <th>2</th>\n",
       "      <td>0</td>\n",
       "      <td>0</td>\n",
       "      <td>1</td>\n",
       "    </tr>\n",
       "    <tr>\n",
       "      <th>3</th>\n",
       "      <td>1</td>\n",
       "      <td>1</td>\n",
       "      <td>1</td>\n",
       "    </tr>\n",
       "    <tr>\n",
       "      <th>4</th>\n",
       "      <td>0</td>\n",
       "      <td>0</td>\n",
       "      <td>0</td>\n",
       "    </tr>\n",
       "  </tbody>\n",
       "</table>\n",
       "</div>"
      ],
      "text/plain": [
       "   y_pred_1  y_pred_2  y_pred_3\n",
       "0         0         0         0\n",
       "1         1         1         1\n",
       "2         0         0         1\n",
       "3         1         1         1\n",
       "4         0         0         0"
      ]
     },
     "execution_count": 218,
     "metadata": {},
     "output_type": "execute_result"
    }
   ],
   "source": [
    "pred_results_test.head()"
   ]
  },
  {
   "cell_type": "code",
   "execution_count": 219,
   "id": "060f9513",
   "metadata": {},
   "outputs": [],
   "source": [
    "x_stack_test = pred_results_test\n",
    "y_stack_pred = clf_stack.predict(x_stack_test)"
   ]
  },
  {
   "cell_type": "code",
   "execution_count": 220,
   "id": "2c08d104",
   "metadata": {},
   "outputs": [
    {
     "data": {
      "text/plain": [
       "0.9473684210526315"
      ]
     },
     "execution_count": 220,
     "metadata": {},
     "output_type": "execute_result"
    }
   ],
   "source": [
    "accuracy_score(y_test,y_stack_pred)"
   ]
  },
  {
   "cell_type": "code",
   "execution_count": null,
   "id": "7b1b931b",
   "metadata": {},
   "outputs": [],
   "source": []
  }
 ],
 "metadata": {
  "kernelspec": {
   "display_name": "Python 3",
   "language": "python",
   "name": "python3"
  },
  "language_info": {
   "codemirror_mode": {
    "name": "ipython",
    "version": 3
   },
   "file_extension": ".py",
   "mimetype": "text/x-python",
   "name": "python",
   "nbconvert_exporter": "python",
   "pygments_lexer": "ipython3",
   "version": "3.8.5"
  }
 },
 "nbformat": 4,
 "nbformat_minor": 5
}
